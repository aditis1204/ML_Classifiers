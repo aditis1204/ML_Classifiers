{
  "nbformat": 4,
  "nbformat_minor": 0,
  "metadata": {
    "colab": {
      "name": " ML_Classifiers.ipynb",
      "provenance": [],
      "collapsed_sections": [],
      "include_colab_link": true
    },
    "kernelspec": {
      "name": "python3",
      "display_name": "Python 3"
    }
  },
  "cells": [
    {
      "cell_type": "markdown",
      "metadata": {
        "id": "view-in-github",
        "colab_type": "text"
      },
      "source": [
        "<a href=\"https://colab.research.google.com/github/aditis1204/ML_Classifiers/blob/master/ML_Classifiers.ipynb\" target=\"_parent\"><img src=\"https://colab.research.google.com/assets/colab-badge.svg\" alt=\"Open In Colab\"/></a>"
      ]
    },
    {
      "cell_type": "code",
      "metadata": {
        "id": "7bF8pLu6VdCg",
        "colab_type": "code",
        "colab": {}
      },
      "source": [
        "import pandas as pd\n",
        "import numpy as np\n",
        "import matplotlib.pyplot as plt\n",
        "%matplotlib inline\n",
        "import warnings\n",
        "warnings.filterwarnings(\"ignore\")\n",
        "import seaborn as sns\n",
        "from sklearn.preprocessing import StandardScaler\n",
        "from sklearn.preprocessing import LabelEncoder\n",
        "from sklearn.model_selection import train_test_split\n",
        "from sklearn.metrics import roc_auc_score\n",
        "from sklearn.model_selection import cross_val_score\n",
        "from sklearn.tree import DecisionTreeClassifier\n",
        "from sklearn.ensemble import RandomForestClassifier\n",
        "from sklearn.model_selection import GridSearchCV\n",
        "from sklearn.svm import SVC\n",
        "from sklearn.ensemble import GradientBoostingClassifier\n",
        "from sklearn.neighbors import KNeighborsClassifier\n",
        "from sklearn.model_selection import GridSearchCV\n",
        "from sklearn.metrics import confusion_matrix,classification_report\n",
        "from sklearn.metrics import roc_curve\n",
        "from sklearn.metrics import roc_auc_score"
      ],
      "execution_count": 0,
      "outputs": []
    },
    {
      "cell_type": "code",
      "metadata": {
        "id": "5ABlrvQjXFgv",
        "colab_type": "code",
        "colab": {}
      },
      "source": [
        "data_url = \"https://raw.githubusercontent.com/shala2020/shala2020.github.io/master/Lecture_Materials/Assignments/MachineLearning/L1/attrition.csv\"\n",
        "attrition_data = pd.read_csv(data_url)"
      ],
      "execution_count": 0,
      "outputs": []
    },
    {
      "cell_type": "code",
      "metadata": {
        "id": "ljGWG-REXpeg",
        "colab_type": "code",
        "outputId": "9efc1e31-2319-45f7-bf8d-dcdbc92c397e",
        "colab": {
          "base_uri": "https://localhost:8080/",
          "height": 573
        }
      },
      "source": [
        "attrition_data"
      ],
      "execution_count": 0,
      "outputs": [
        {
          "output_type": "execute_result",
          "data": {
            "text/html": [
              "<div>\n",
              "<style scoped>\n",
              "    .dataframe tbody tr th:only-of-type {\n",
              "        vertical-align: middle;\n",
              "    }\n",
              "\n",
              "    .dataframe tbody tr th {\n",
              "        vertical-align: top;\n",
              "    }\n",
              "\n",
              "    .dataframe thead th {\n",
              "        text-align: right;\n",
              "    }\n",
              "</style>\n",
              "<table border=\"1\" class=\"dataframe\">\n",
              "  <thead>\n",
              "    <tr style=\"text-align: right;\">\n",
              "      <th></th>\n",
              "      <th>Age</th>\n",
              "      <th>Attrition</th>\n",
              "      <th>BusinessTravel</th>\n",
              "      <th>DailyRate</th>\n",
              "      <th>Department</th>\n",
              "      <th>DistanceFromHome</th>\n",
              "      <th>Education</th>\n",
              "      <th>EducationField</th>\n",
              "      <th>EmployeeCount</th>\n",
              "      <th>EmployeeNumber</th>\n",
              "      <th>EnvironmentSatisfaction</th>\n",
              "      <th>Gender</th>\n",
              "      <th>HourlyRate</th>\n",
              "      <th>JobInvolvement</th>\n",
              "      <th>JobLevel</th>\n",
              "      <th>JobRole</th>\n",
              "      <th>JobSatisfaction</th>\n",
              "      <th>MaritalStatus</th>\n",
              "      <th>MonthlyIncome</th>\n",
              "      <th>MonthlyRate</th>\n",
              "      <th>NumCompaniesWorked</th>\n",
              "      <th>OverTime</th>\n",
              "      <th>PercentSalaryHike</th>\n",
              "      <th>PerformanceRating</th>\n",
              "      <th>RelationshipSatisfaction</th>\n",
              "      <th>StockOptionLevel</th>\n",
              "      <th>TotalWorkingYears</th>\n",
              "      <th>TrainingTimesLastYear</th>\n",
              "      <th>WorkLifeBalance</th>\n",
              "      <th>YearsAtCompany</th>\n",
              "      <th>YearsInCurrentRole</th>\n",
              "      <th>YearsSinceLastPromotion</th>\n",
              "      <th>YearsWithCurrManager</th>\n",
              "      <th>ID</th>\n",
              "    </tr>\n",
              "  </thead>\n",
              "  <tbody>\n",
              "    <tr>\n",
              "      <th>0</th>\n",
              "      <td>41</td>\n",
              "      <td>1</td>\n",
              "      <td>Travel_Rarely</td>\n",
              "      <td>1102</td>\n",
              "      <td>Sales</td>\n",
              "      <td>1</td>\n",
              "      <td>2</td>\n",
              "      <td>Life Sciences</td>\n",
              "      <td>1</td>\n",
              "      <td>1</td>\n",
              "      <td>2</td>\n",
              "      <td>Female</td>\n",
              "      <td>94</td>\n",
              "      <td>3</td>\n",
              "      <td>2</td>\n",
              "      <td>Sales Executive</td>\n",
              "      <td>4</td>\n",
              "      <td>Single</td>\n",
              "      <td>5993</td>\n",
              "      <td>19479</td>\n",
              "      <td>8</td>\n",
              "      <td>Yes</td>\n",
              "      <td>11</td>\n",
              "      <td>3</td>\n",
              "      <td>1</td>\n",
              "      <td>0</td>\n",
              "      <td>8</td>\n",
              "      <td>0</td>\n",
              "      <td>1</td>\n",
              "      <td>6</td>\n",
              "      <td>4</td>\n",
              "      <td>0</td>\n",
              "      <td>5</td>\n",
              "      <td>0</td>\n",
              "    </tr>\n",
              "    <tr>\n",
              "      <th>1</th>\n",
              "      <td>49</td>\n",
              "      <td>0</td>\n",
              "      <td>Travel_Frequently</td>\n",
              "      <td>279</td>\n",
              "      <td>Research &amp; Development</td>\n",
              "      <td>8</td>\n",
              "      <td>1</td>\n",
              "      <td>Life Sciences</td>\n",
              "      <td>1</td>\n",
              "      <td>2</td>\n",
              "      <td>3</td>\n",
              "      <td>Male</td>\n",
              "      <td>61</td>\n",
              "      <td>2</td>\n",
              "      <td>2</td>\n",
              "      <td>Research Scientist</td>\n",
              "      <td>2</td>\n",
              "      <td>Married</td>\n",
              "      <td>5130</td>\n",
              "      <td>24907</td>\n",
              "      <td>1</td>\n",
              "      <td>No</td>\n",
              "      <td>23</td>\n",
              "      <td>4</td>\n",
              "      <td>4</td>\n",
              "      <td>1</td>\n",
              "      <td>10</td>\n",
              "      <td>3</td>\n",
              "      <td>3</td>\n",
              "      <td>10</td>\n",
              "      <td>7</td>\n",
              "      <td>1</td>\n",
              "      <td>7</td>\n",
              "      <td>1</td>\n",
              "    </tr>\n",
              "    <tr>\n",
              "      <th>2</th>\n",
              "      <td>37</td>\n",
              "      <td>1</td>\n",
              "      <td>Travel_Rarely</td>\n",
              "      <td>1373</td>\n",
              "      <td>Research &amp; Development</td>\n",
              "      <td>2</td>\n",
              "      <td>2</td>\n",
              "      <td>Other</td>\n",
              "      <td>1</td>\n",
              "      <td>4</td>\n",
              "      <td>4</td>\n",
              "      <td>Male</td>\n",
              "      <td>92</td>\n",
              "      <td>2</td>\n",
              "      <td>1</td>\n",
              "      <td>Laboratory Technician</td>\n",
              "      <td>3</td>\n",
              "      <td>Single</td>\n",
              "      <td>2090</td>\n",
              "      <td>2396</td>\n",
              "      <td>6</td>\n",
              "      <td>Yes</td>\n",
              "      <td>15</td>\n",
              "      <td>3</td>\n",
              "      <td>2</td>\n",
              "      <td>0</td>\n",
              "      <td>7</td>\n",
              "      <td>3</td>\n",
              "      <td>3</td>\n",
              "      <td>0</td>\n",
              "      <td>0</td>\n",
              "      <td>0</td>\n",
              "      <td>0</td>\n",
              "      <td>2</td>\n",
              "    </tr>\n",
              "    <tr>\n",
              "      <th>3</th>\n",
              "      <td>33</td>\n",
              "      <td>0</td>\n",
              "      <td>Travel_Frequently</td>\n",
              "      <td>1392</td>\n",
              "      <td>Research &amp; Development</td>\n",
              "      <td>3</td>\n",
              "      <td>4</td>\n",
              "      <td>Life Sciences</td>\n",
              "      <td>1</td>\n",
              "      <td>5</td>\n",
              "      <td>4</td>\n",
              "      <td>Female</td>\n",
              "      <td>56</td>\n",
              "      <td>3</td>\n",
              "      <td>1</td>\n",
              "      <td>Research Scientist</td>\n",
              "      <td>3</td>\n",
              "      <td>Married</td>\n",
              "      <td>2909</td>\n",
              "      <td>23159</td>\n",
              "      <td>1</td>\n",
              "      <td>Yes</td>\n",
              "      <td>11</td>\n",
              "      <td>3</td>\n",
              "      <td>3</td>\n",
              "      <td>0</td>\n",
              "      <td>8</td>\n",
              "      <td>3</td>\n",
              "      <td>3</td>\n",
              "      <td>8</td>\n",
              "      <td>7</td>\n",
              "      <td>3</td>\n",
              "      <td>0</td>\n",
              "      <td>3</td>\n",
              "    </tr>\n",
              "    <tr>\n",
              "      <th>4</th>\n",
              "      <td>27</td>\n",
              "      <td>0</td>\n",
              "      <td>Travel_Rarely</td>\n",
              "      <td>591</td>\n",
              "      <td>Research &amp; Development</td>\n",
              "      <td>2</td>\n",
              "      <td>1</td>\n",
              "      <td>Medical</td>\n",
              "      <td>1</td>\n",
              "      <td>7</td>\n",
              "      <td>1</td>\n",
              "      <td>Male</td>\n",
              "      <td>40</td>\n",
              "      <td>3</td>\n",
              "      <td>1</td>\n",
              "      <td>Laboratory Technician</td>\n",
              "      <td>2</td>\n",
              "      <td>Married</td>\n",
              "      <td>3468</td>\n",
              "      <td>16632</td>\n",
              "      <td>9</td>\n",
              "      <td>No</td>\n",
              "      <td>12</td>\n",
              "      <td>3</td>\n",
              "      <td>4</td>\n",
              "      <td>1</td>\n",
              "      <td>6</td>\n",
              "      <td>3</td>\n",
              "      <td>3</td>\n",
              "      <td>2</td>\n",
              "      <td>2</td>\n",
              "      <td>2</td>\n",
              "      <td>2</td>\n",
              "      <td>4</td>\n",
              "    </tr>\n",
              "    <tr>\n",
              "      <th>...</th>\n",
              "      <td>...</td>\n",
              "      <td>...</td>\n",
              "      <td>...</td>\n",
              "      <td>...</td>\n",
              "      <td>...</td>\n",
              "      <td>...</td>\n",
              "      <td>...</td>\n",
              "      <td>...</td>\n",
              "      <td>...</td>\n",
              "      <td>...</td>\n",
              "      <td>...</td>\n",
              "      <td>...</td>\n",
              "      <td>...</td>\n",
              "      <td>...</td>\n",
              "      <td>...</td>\n",
              "      <td>...</td>\n",
              "      <td>...</td>\n",
              "      <td>...</td>\n",
              "      <td>...</td>\n",
              "      <td>...</td>\n",
              "      <td>...</td>\n",
              "      <td>...</td>\n",
              "      <td>...</td>\n",
              "      <td>...</td>\n",
              "      <td>...</td>\n",
              "      <td>...</td>\n",
              "      <td>...</td>\n",
              "      <td>...</td>\n",
              "      <td>...</td>\n",
              "      <td>...</td>\n",
              "      <td>...</td>\n",
              "      <td>...</td>\n",
              "      <td>...</td>\n",
              "      <td>...</td>\n",
              "    </tr>\n",
              "    <tr>\n",
              "      <th>1023</th>\n",
              "      <td>56</td>\n",
              "      <td>0</td>\n",
              "      <td>Travel_Rarely</td>\n",
              "      <td>1255</td>\n",
              "      <td>Research &amp; Development</td>\n",
              "      <td>1</td>\n",
              "      <td>2</td>\n",
              "      <td>Life Sciences</td>\n",
              "      <td>1</td>\n",
              "      <td>1441</td>\n",
              "      <td>1</td>\n",
              "      <td>Female</td>\n",
              "      <td>90</td>\n",
              "      <td>3</td>\n",
              "      <td>1</td>\n",
              "      <td>Research Scientist</td>\n",
              "      <td>1</td>\n",
              "      <td>Married</td>\n",
              "      <td>2066</td>\n",
              "      <td>10494</td>\n",
              "      <td>2</td>\n",
              "      <td>No</td>\n",
              "      <td>22</td>\n",
              "      <td>4</td>\n",
              "      <td>4</td>\n",
              "      <td>1</td>\n",
              "      <td>5</td>\n",
              "      <td>3</td>\n",
              "      <td>4</td>\n",
              "      <td>3</td>\n",
              "      <td>2</td>\n",
              "      <td>1</td>\n",
              "      <td>0</td>\n",
              "      <td>1023</td>\n",
              "    </tr>\n",
              "    <tr>\n",
              "      <th>1024</th>\n",
              "      <td>47</td>\n",
              "      <td>0</td>\n",
              "      <td>Travel_Rarely</td>\n",
              "      <td>359</td>\n",
              "      <td>Research &amp; Development</td>\n",
              "      <td>2</td>\n",
              "      <td>4</td>\n",
              "      <td>Medical</td>\n",
              "      <td>1</td>\n",
              "      <td>1443</td>\n",
              "      <td>1</td>\n",
              "      <td>Female</td>\n",
              "      <td>82</td>\n",
              "      <td>3</td>\n",
              "      <td>4</td>\n",
              "      <td>Research Director</td>\n",
              "      <td>3</td>\n",
              "      <td>Married</td>\n",
              "      <td>17169</td>\n",
              "      <td>26703</td>\n",
              "      <td>3</td>\n",
              "      <td>No</td>\n",
              "      <td>19</td>\n",
              "      <td>3</td>\n",
              "      <td>2</td>\n",
              "      <td>2</td>\n",
              "      <td>26</td>\n",
              "      <td>2</td>\n",
              "      <td>4</td>\n",
              "      <td>20</td>\n",
              "      <td>17</td>\n",
              "      <td>5</td>\n",
              "      <td>6</td>\n",
              "      <td>1024</td>\n",
              "    </tr>\n",
              "    <tr>\n",
              "      <th>1025</th>\n",
              "      <td>24</td>\n",
              "      <td>0</td>\n",
              "      <td>Travel_Rarely</td>\n",
              "      <td>1476</td>\n",
              "      <td>Sales</td>\n",
              "      <td>4</td>\n",
              "      <td>1</td>\n",
              "      <td>Medical</td>\n",
              "      <td>1</td>\n",
              "      <td>1445</td>\n",
              "      <td>4</td>\n",
              "      <td>Female</td>\n",
              "      <td>42</td>\n",
              "      <td>3</td>\n",
              "      <td>2</td>\n",
              "      <td>Sales Executive</td>\n",
              "      <td>3</td>\n",
              "      <td>Married</td>\n",
              "      <td>4162</td>\n",
              "      <td>15211</td>\n",
              "      <td>1</td>\n",
              "      <td>Yes</td>\n",
              "      <td>12</td>\n",
              "      <td>3</td>\n",
              "      <td>3</td>\n",
              "      <td>2</td>\n",
              "      <td>5</td>\n",
              "      <td>3</td>\n",
              "      <td>3</td>\n",
              "      <td>5</td>\n",
              "      <td>4</td>\n",
              "      <td>0</td>\n",
              "      <td>3</td>\n",
              "      <td>1025</td>\n",
              "    </tr>\n",
              "    <tr>\n",
              "      <th>1026</th>\n",
              "      <td>32</td>\n",
              "      <td>0</td>\n",
              "      <td>Travel_Rarely</td>\n",
              "      <td>601</td>\n",
              "      <td>Sales</td>\n",
              "      <td>7</td>\n",
              "      <td>5</td>\n",
              "      <td>Marketing</td>\n",
              "      <td>1</td>\n",
              "      <td>1446</td>\n",
              "      <td>4</td>\n",
              "      <td>Male</td>\n",
              "      <td>97</td>\n",
              "      <td>3</td>\n",
              "      <td>2</td>\n",
              "      <td>Sales Executive</td>\n",
              "      <td>4</td>\n",
              "      <td>Married</td>\n",
              "      <td>9204</td>\n",
              "      <td>23343</td>\n",
              "      <td>4</td>\n",
              "      <td>No</td>\n",
              "      <td>12</td>\n",
              "      <td>3</td>\n",
              "      <td>3</td>\n",
              "      <td>1</td>\n",
              "      <td>7</td>\n",
              "      <td>3</td>\n",
              "      <td>2</td>\n",
              "      <td>4</td>\n",
              "      <td>3</td>\n",
              "      <td>0</td>\n",
              "      <td>3</td>\n",
              "      <td>1026</td>\n",
              "    </tr>\n",
              "    <tr>\n",
              "      <th>1027</th>\n",
              "      <td>34</td>\n",
              "      <td>0</td>\n",
              "      <td>Travel_Rarely</td>\n",
              "      <td>401</td>\n",
              "      <td>Research &amp; Development</td>\n",
              "      <td>1</td>\n",
              "      <td>3</td>\n",
              "      <td>Life Sciences</td>\n",
              "      <td>1</td>\n",
              "      <td>1447</td>\n",
              "      <td>4</td>\n",
              "      <td>Female</td>\n",
              "      <td>86</td>\n",
              "      <td>2</td>\n",
              "      <td>1</td>\n",
              "      <td>Laboratory Technician</td>\n",
              "      <td>2</td>\n",
              "      <td>Married</td>\n",
              "      <td>3294</td>\n",
              "      <td>3708</td>\n",
              "      <td>5</td>\n",
              "      <td>No</td>\n",
              "      <td>17</td>\n",
              "      <td>3</td>\n",
              "      <td>1</td>\n",
              "      <td>1</td>\n",
              "      <td>7</td>\n",
              "      <td>2</td>\n",
              "      <td>2</td>\n",
              "      <td>5</td>\n",
              "      <td>4</td>\n",
              "      <td>0</td>\n",
              "      <td>2</td>\n",
              "      <td>1027</td>\n",
              "    </tr>\n",
              "  </tbody>\n",
              "</table>\n",
              "<p>1028 rows × 34 columns</p>\n",
              "</div>"
            ],
            "text/plain": [
              "      Age  Attrition  ... YearsWithCurrManager    ID\n",
              "0      41          1  ...                    5     0\n",
              "1      49          0  ...                    7     1\n",
              "2      37          1  ...                    0     2\n",
              "3      33          0  ...                    0     3\n",
              "4      27          0  ...                    2     4\n",
              "...   ...        ...  ...                  ...   ...\n",
              "1023   56          0  ...                    0  1023\n",
              "1024   47          0  ...                    6  1024\n",
              "1025   24          0  ...                    3  1025\n",
              "1026   32          0  ...                    3  1026\n",
              "1027   34          0  ...                    2  1027\n",
              "\n",
              "[1028 rows x 34 columns]"
            ]
          },
          "metadata": {
            "tags": []
          },
          "execution_count": 36
        }
      ]
    },
    {
      "cell_type": "code",
      "metadata": {
        "id": "j1-6Uqt0qdFp",
        "colab_type": "code",
        "outputId": "212d6523-a112-4cc9-bcfc-5691051e54b4",
        "colab": {
          "base_uri": "https://localhost:8080/",
          "height": 586
        }
      },
      "source": [
        "attrition_data.dtypes\n"
      ],
      "execution_count": 0,
      "outputs": [
        {
          "output_type": "execute_result",
          "data": {
            "text/plain": [
              "Age                          int64\n",
              "Attrition                    int64\n",
              "BusinessTravel              object\n",
              "DailyRate                    int64\n",
              "Department                  object\n",
              "DistanceFromHome             int64\n",
              "Education                    int64\n",
              "EducationField              object\n",
              "EmployeeCount                int64\n",
              "EmployeeNumber               int64\n",
              "EnvironmentSatisfaction      int64\n",
              "Gender                      object\n",
              "HourlyRate                   int64\n",
              "JobInvolvement               int64\n",
              "JobLevel                     int64\n",
              "JobRole                     object\n",
              "JobSatisfaction              int64\n",
              "MaritalStatus               object\n",
              "MonthlyIncome                int64\n",
              "MonthlyRate                  int64\n",
              "NumCompaniesWorked           int64\n",
              "OverTime                    object\n",
              "PercentSalaryHike            int64\n",
              "PerformanceRating            int64\n",
              "RelationshipSatisfaction     int64\n",
              "StockOptionLevel             int64\n",
              "TotalWorkingYears            int64\n",
              "TrainingTimesLastYear        int64\n",
              "WorkLifeBalance              int64\n",
              "YearsAtCompany               int64\n",
              "YearsInCurrentRole           int64\n",
              "YearsSinceLastPromotion      int64\n",
              "YearsWithCurrManager         int64\n",
              "ID                           int64\n",
              "dtype: object"
            ]
          },
          "metadata": {
            "tags": []
          },
          "execution_count": 37
        }
      ]
    },
    {
      "cell_type": "code",
      "metadata": {
        "id": "6H965HacrKX_",
        "colab_type": "code",
        "colab": {}
      },
      "source": [
        "# Removing unnecessary columns in the dataset\n",
        "import warnings\n",
        "warnings.filterwarnings(\"ignore\")\n",
        "attrition_data.drop([\"ID\",\"EmployeeNumber\",\"EmployeeCount\"],axis=1,inplace=True)"
      ],
      "execution_count": 0,
      "outputs": []
    },
    {
      "cell_type": "code",
      "metadata": {
        "id": "pYJx_9IksLmU",
        "colab_type": "code",
        "outputId": "805b7c1a-8dfc-4f98-a152-58430720eadd",
        "colab": {
          "base_uri": "https://localhost:8080/",
          "height": 1000
        }
      },
      "source": [
        "attrition_data.hist(figsize=(18,18),grid=True,bins='auto');\n"
      ],
      "execution_count": 0,
      "outputs": [
        {
          "output_type": "display_data",
          "data": {
            "image/png": "[encoded data removed]",
            "text/plain": [
              "<Figure size 1296x1296 with 25 Axes>"
            ]
          },
          "metadata": {
            "tags": [],
            "needs_background": "light"
          }
        }
      ]
    },
    {
      "cell_type": "code",
      "metadata": {
        "id": "7PogYxIashuG",
        "colab_type": "code",
        "outputId": "f5d66231-04e7-4d68-abcb-dd78d7df8d38",
        "colab": {
          "base_uri": "https://localhost:8080/",
          "height": 295
        }
      },
      "source": [
        "sns.countplot(attrition_data[\"Attrition\"])\n"
      ],
      "execution_count": 0,
      "outputs": [
        {
          "output_type": "execute_result",
          "data": {
            "text/plain": [
              "<matplotlib.axes._subplots.AxesSubplot at 0x7efc17d54208>"
            ]
          },
          "metadata": {
            "tags": []
          },
          "execution_count": 7
        },
        {
          "output_type": "display_data",
          "data": {
            "image/png": "[encoded data removed]",
            "text/plain": [
              "<Figure size 432x288 with 1 Axes>"
            ]
          },
          "metadata": {
            "tags": [],
            "needs_background": "light"
          }
        }
      ]
    },
    {
      "cell_type": "code",
      "metadata": {
        "id": "frhtj28qsqq1",
        "colab_type": "code",
        "outputId": "f4fafce5-8cc0-435e-c671-198cfe56718c",
        "colab": {
          "base_uri": "https://localhost:8080/",
          "height": 296
        }
      },
      "source": [
        "sns.countplot(attrition_data[\"BusinessTravel\"],palette=\"Set2\")\n"
      ],
      "execution_count": 0,
      "outputs": [
        {
          "output_type": "execute_result",
          "data": {
            "text/plain": [
              "<matplotlib.axes._subplots.AxesSubplot at 0x7efc1784c0b8>"
            ]
          },
          "metadata": {
            "tags": []
          },
          "execution_count": 8
        },
        {
          "output_type": "display_data",
          "data": {
            "image/png": "[encoded data removed]",
            "text/plain": [
              "<Figure size 432x288 with 1 Axes>"
            ]
          },
          "metadata": {
            "tags": [],
            "needs_background": "light"
          }
        }
      ]
    },
    {
      "cell_type": "code",
      "metadata": {
        "id": "uiJ5lj9RszP9",
        "colab_type": "code",
        "outputId": "00c243b8-6345-49ea-daab-18a9bfcd2ea1",
        "colab": {
          "base_uri": "https://localhost:8080/",
          "height": 295
        }
      },
      "source": [
        "sns.countplot(attrition_data[\"Department\"])\n"
      ],
      "execution_count": 0,
      "outputs": [
        {
          "output_type": "execute_result",
          "data": {
            "text/plain": [
              "<matplotlib.axes._subplots.AxesSubplot at 0x7efc15fa1f98>"
            ]
          },
          "metadata": {
            "tags": []
          },
          "execution_count": 9
        },
        {
          "output_type": "display_data",
          "data": {
            "image/png": "[encoded data removed]",
            "text/plain": [
              "<Figure size 432x288 with 1 Axes>"
            ]
          },
          "metadata": {
            "tags": [],
            "needs_background": "light"
          }
        }
      ]
    },
    {
      "cell_type": "code",
      "metadata": {
        "id": "XJJd-pJxs5Qm",
        "colab_type": "code",
        "outputId": "05987b5e-8e93-4089-db72-f1759e76faf0",
        "colab": {
          "base_uri": "https://localhost:8080/",
          "height": 295
        }
      },
      "source": [
        "sns.countplot(attrition_data[\"Gender\"])\n"
      ],
      "execution_count": 0,
      "outputs": [
        {
          "output_type": "execute_result",
          "data": {
            "text/plain": [
              "<matplotlib.axes._subplots.AxesSubplot at 0x7efc15f79eb8>"
            ]
          },
          "metadata": {
            "tags": []
          },
          "execution_count": 10
        },
        {
          "output_type": "display_data",
          "data": {
            "image/png": "[encoded data removed]",
            "text/plain": [
              "<Figure size 432x288 with 1 Axes>"
            ]
          },
          "metadata": {
            "tags": [],
            "needs_background": "light"
          }
        }
      ]
    },
    {
      "cell_type": "code",
      "metadata": {
        "id": "hXlWOqBos-4-",
        "colab_type": "code",
        "outputId": "111fb78d-c47c-4547-e318-a85f2b2b3f2e",
        "colab": {
          "base_uri": "https://localhost:8080/",
          "height": 513
        }
      },
      "source": [
        "plt.figure(figsize=(20,8))\n",
        "sns.countplot(attrition_data[\"JobRole\"])"
      ],
      "execution_count": 0,
      "outputs": [
        {
          "output_type": "execute_result",
          "data": {
            "text/plain": [
              "<matplotlib.axes._subplots.AxesSubplot at 0x7efc15f8f748>"
            ]
          },
          "metadata": {
            "tags": []
          },
          "execution_count": 11
        },
        {
          "output_type": "display_data",
          "data": {
            "image/png": "[encoded data removed]",
            "text/plain": [
              "<Figure size 1440x576 with 1 Axes>"
            ]
          },
          "metadata": {
            "tags": [],
            "needs_background": "light"
          }
        }
      ]
    },
    {
      "cell_type": "code",
      "metadata": {
        "id": "SuxWgss-tFL_",
        "colab_type": "code",
        "outputId": "243fbf12-02bc-44e6-8f10-ac972ab30c98",
        "colab": {
          "base_uri": "https://localhost:8080/",
          "height": 295
        }
      },
      "source": [
        "sns.countplot(attrition_data[\"MaritalStatus\"])\n"
      ],
      "execution_count": 0,
      "outputs": [
        {
          "output_type": "execute_result",
          "data": {
            "text/plain": [
              "<matplotlib.axes._subplots.AxesSubplot at 0x7efc15ed11d0>"
            ]
          },
          "metadata": {
            "tags": []
          },
          "execution_count": 12
        },
        {
          "output_type": "display_data",
          "data": {
            "image/png": "[encoded data removed]",
            "text/plain": [
              "<Figure size 432x288 with 1 Axes>"
            ]
          },
          "metadata": {
            "tags": [],
            "needs_background": "light"
          }
        }
      ]
    },
    {
      "cell_type": "code",
      "metadata": {
        "id": "uyHstGQ5tKD3",
        "colab_type": "code",
        "outputId": "03058798-44f8-482c-8351-b1fce80fa406",
        "colab": {
          "base_uri": "https://localhost:8080/",
          "height": 295
        }
      },
      "source": [
        "plt.figure(figsize=(8,4))\n",
        "plt.title(\"Distribution of age\")\n",
        "a = sns.distplot(attrition_data[\"Age\"], color = 'orange')"
      ],
      "execution_count": 0,
      "outputs": [
        {
          "output_type": "display_data",
          "data": {
            "image/png": "[encoded data removed]",
            "text/plain": [
              "<Figure size 576x288 with 1 Axes>"
            ]
          },
          "metadata": {
            "tags": [],
            "needs_background": "light"
          }
        }
      ]
    },
    {
      "cell_type": "code",
      "metadata": {
        "id": "Xod06pcqtQFV",
        "colab_type": "code",
        "outputId": "f659f866-325e-4a19-dacf-655af526be4a",
        "colab": {
          "base_uri": "https://localhost:8080/",
          "height": 295
        }
      },
      "source": [
        "plt.figure(figsize=(8,4))\n",
        "plt.title(\"Distribution of Daily Rate \")\n",
        "b= sns.distplot(attrition_data[\"DailyRate\"], color = 'green')"
      ],
      "execution_count": 0,
      "outputs": [
        {
          "output_type": "display_data",
          "data": {
            "image/png": "[encoded data removed]",
            "text/plain": [
              "<Figure size 576x288 with 1 Axes>"
            ]
          },
          "metadata": {
            "tags": [],
            "needs_background": "light"
          }
        }
      ]
    },
    {
      "cell_type": "code",
      "metadata": {
        "id": "A6B2SvadtVgd",
        "colab_type": "code",
        "outputId": "8b81b9f5-07d6-412c-d32a-dd40ba0ec5de",
        "colab": {
          "base_uri": "https://localhost:8080/",
          "height": 295
        }
      },
      "source": [
        "plt.figure(figsize=(8,4))\n",
        "plt.title(\"Distribution of Hourly Rate \")\n",
        "c= sns.distplot(attrition_data[\"HourlyRate\"], color = 'lime')"
      ],
      "execution_count": 0,
      "outputs": [
        {
          "output_type": "display_data",
          "data": {
            "image/png": "[encoded data removed]",
            "text/plain": [
              "<Figure size 576x288 with 1 Axes>"
            ]
          },
          "metadata": {
            "tags": [],
            "needs_background": "light"
          }
        }
      ]
    },
    {
      "cell_type": "code",
      "metadata": {
        "id": "oZVQG7lVtaV2",
        "colab_type": "code",
        "outputId": "a1cd1756-91b0-4cc1-afd1-e16466d514e5",
        "colab": {
          "base_uri": "https://localhost:8080/",
          "height": 295
        }
      },
      "source": [
        "plt.figure(figsize=(8,4))\n",
        "plt.title(\"Distribution of Percentage Salary Hike \")\n",
        "d= sns.distplot(attrition_data[\"PercentSalaryHike\"], color = 'green')"
      ],
      "execution_count": 0,
      "outputs": [
        {
          "output_type": "display_data",
          "data": {
            "image/png": "[encoded data removed]",
            "text/plain": [
              "<Figure size 576x288 with 1 Axes>"
            ]
          },
          "metadata": {
            "tags": [],
            "needs_background": "light"
          }
        }
      ]
    },
    {
      "cell_type": "code",
      "metadata": {
        "id": "yOmxygwEtfak",
        "colab_type": "code",
        "outputId": "0e311814-b782-4206-a4b5-edbd82c65105",
        "colab": {
          "base_uri": "https://localhost:8080/",
          "height": 295
        }
      },
      "source": [
        "plt.figure(figsize=(8,4))\n",
        "plt.title(\"Distribution of Years at Company \")\n",
        "e= sns.distplot(attrition_data[\"YearsAtCompany\"], color = 'springgreen')"
      ],
      "execution_count": 0,
      "outputs": [
        {
          "output_type": "display_data",
          "data": {
            "image/png": "[encoded data removed]",
            "text/plain": [
              "<Figure size 576x288 with 1 Axes>"
            ]
          },
          "metadata": {
            "tags": [],
            "needs_background": "light"
          }
        }
      ]
    },
    {
      "cell_type": "code",
      "metadata": {
        "id": "UvRH8Byxtm0Y",
        "colab_type": "code",
        "outputId": "2c7f70ee-bb9b-4481-f95c-c55632d6bfd2",
        "colab": {
          "base_uri": "https://localhost:8080/",
          "height": 280
        }
      },
      "source": [
        "sns.countplot(x=\"BusinessTravel\", hue=\"Attrition\",data=attrition_data,palette=\"Set2\")\n",
        "plt.show()"
      ],
      "execution_count": 0,
      "outputs": [
        {
          "output_type": "display_data",
          "data": {
            "image/png": "[encoded data removed]",
            "text/plain": [
              "<Figure size 432x288 with 1 Axes>"
            ]
          },
          "metadata": {
            "tags": [],
            "needs_background": "light"
          }
        }
      ]
    },
    {
      "cell_type": "code",
      "metadata": {
        "id": "IgwrUZvLtuGO",
        "colab_type": "code",
        "outputId": "8152ae66-069c-442b-a5c9-a2e521e76733",
        "colab": {
          "base_uri": "https://localhost:8080/",
          "height": 280
        }
      },
      "source": [
        "sns.countplot(x=\"Department\", hue=\"Attrition\",data=attrition_data,palette=\"Set1\")\n",
        "plt.show()"
      ],
      "execution_count": 0,
      "outputs": [
        {
          "output_type": "display_data",
          "data": {
            "image/png": "[encoded data removed]",
            "text/plain": [
              "<Figure size 432x288 with 1 Axes>"
            ]
          },
          "metadata": {
            "tags": [],
            "needs_background": "light"
          }
        }
      ]
    },
    {
      "cell_type": "code",
      "metadata": {
        "id": "U5hwmt8wt1j-",
        "colab_type": "code",
        "outputId": "a2ce1f73-2987-4c7b-db8c-9658bfb2c8d4",
        "colab": {
          "base_uri": "https://localhost:8080/",
          "height": 278
        }
      },
      "source": [
        "sns.countplot(x=\"Gender\", hue=\"Attrition\",data=attrition_data,palette=\"Set3\")\n",
        "plt.show()"
      ],
      "execution_count": 0,
      "outputs": [
        {
          "output_type": "display_data",
          "data": {
            "image/png": "[encoded data removed]",
            "text/plain": [
              "<Figure size 432x288 with 1 Axes>"
            ]
          },
          "metadata": {
            "tags": [],
            "needs_background": "light"
          }
        }
      ]
    },
    {
      "cell_type": "code",
      "metadata": {
        "id": "wUy3-Vyjt8D9",
        "colab_type": "code",
        "outputId": "61909d2e-ba97-4d21-ca49-f0f74a88c1e6",
        "colab": {
          "base_uri": "https://localhost:8080/",
          "height": 278
        }
      },
      "source": [
        "sns.countplot(x=\"MaritalStatus\", hue=\"Attrition\",data=attrition_data)\n",
        "plt.show()"
      ],
      "execution_count": 0,
      "outputs": [
        {
          "output_type": "display_data",
          "data": {
            "image/png": "[encoded data removed]",
            "text/plain": [
              "<Figure size 432x288 with 1 Axes>"
            ]
          },
          "metadata": {
            "tags": [],
            "needs_background": "light"
          }
        }
      ]
    },
    {
      "cell_type": "code",
      "metadata": {
        "id": "tekd-DeuuA0G",
        "colab_type": "code",
        "outputId": "ee5cfb17-585b-477e-e89f-d1c142e20ec7",
        "colab": {
          "base_uri": "https://localhost:8080/",
          "height": 278
        }
      },
      "source": [
        "sns.countplot(x=\"OverTime\", hue=\"Attrition\",data=attrition_data,palette=\"Set1\")\n",
        "plt.show()"
      ],
      "execution_count": 0,
      "outputs": [
        {
          "output_type": "display_data",
          "data": {
            "image/png": "[encoded data removed]",
            "text/plain": [
              "<Figure size 432x288 with 1 Axes>"
            ]
          },
          "metadata": {
            "tags": [],
            "needs_background": "light"
          }
        }
      ]
    },
    {
      "cell_type": "code",
      "metadata": {
        "id": "vPiliIuiuInk",
        "colab_type": "code",
        "outputId": "c94accf7-00e9-4915-8fa3-ef4f3da5d221",
        "colab": {
          "base_uri": "https://localhost:8080/",
          "height": 757
        }
      },
      "source": [
        "attrition_data.corr()\n"
      ],
      "execution_count": 0,
      "outputs": [
        {
          "output_type": "execute_result",
          "data": {
            "text/html": [
              "<div>\n",
              "<style scoped>\n",
              "    .dataframe tbody tr th:only-of-type {\n",
              "        vertical-align: middle;\n",
              "    }\n",
              "\n",
              "    .dataframe tbody tr th {\n",
              "        vertical-align: top;\n",
              "    }\n",
              "\n",
              "    .dataframe thead th {\n",
              "        text-align: right;\n",
              "    }\n",
              "</style>\n",
              "<table border=\"1\" class=\"dataframe\">\n",
              "  <thead>\n",
              "    <tr style=\"text-align: right;\">\n",
              "      <th></th>\n",
              "      <th>Age</th>\n",
              "      <th>Attrition</th>\n",
              "      <th>DailyRate</th>\n",
              "      <th>DistanceFromHome</th>\n",
              "      <th>Education</th>\n",
              "      <th>EnvironmentSatisfaction</th>\n",
              "      <th>HourlyRate</th>\n",
              "      <th>JobInvolvement</th>\n",
              "      <th>JobLevel</th>\n",
              "      <th>JobSatisfaction</th>\n",
              "      <th>MonthlyIncome</th>\n",
              "      <th>MonthlyRate</th>\n",
              "      <th>NumCompaniesWorked</th>\n",
              "      <th>PercentSalaryHike</th>\n",
              "      <th>PerformanceRating</th>\n",
              "      <th>RelationshipSatisfaction</th>\n",
              "      <th>StockOptionLevel</th>\n",
              "      <th>TotalWorkingYears</th>\n",
              "      <th>TrainingTimesLastYear</th>\n",
              "      <th>WorkLifeBalance</th>\n",
              "      <th>YearsAtCompany</th>\n",
              "      <th>YearsInCurrentRole</th>\n",
              "      <th>YearsSinceLastPromotion</th>\n",
              "      <th>YearsWithCurrManager</th>\n",
              "    </tr>\n",
              "  </thead>\n",
              "  <tbody>\n",
              "    <tr>\n",
              "      <th>Age</th>\n",
              "      <td>1.000000</td>\n",
              "      <td>-0.168641</td>\n",
              "      <td>0.010270</td>\n",
              "      <td>-0.022883</td>\n",
              "      <td>0.181464</td>\n",
              "      <td>0.033375</td>\n",
              "      <td>0.006313</td>\n",
              "      <td>0.042037</td>\n",
              "      <td>0.512325</td>\n",
              "      <td>-0.021383</td>\n",
              "      <td>0.503340</td>\n",
              "      <td>0.016969</td>\n",
              "      <td>0.313343</td>\n",
              "      <td>-0.025688</td>\n",
              "      <td>-0.037771</td>\n",
              "      <td>0.061905</td>\n",
              "      <td>0.006998</td>\n",
              "      <td>0.691968</td>\n",
              "      <td>-0.002472</td>\n",
              "      <td>-0.028193</td>\n",
              "      <td>0.317744</td>\n",
              "      <td>0.209906</td>\n",
              "      <td>0.215766</td>\n",
              "      <td>0.194178</td>\n",
              "    </tr>\n",
              "    <tr>\n",
              "      <th>Attrition</th>\n",
              "      <td>-0.168641</td>\n",
              "      <td>1.000000</td>\n",
              "      <td>-0.050566</td>\n",
              "      <td>0.086875</td>\n",
              "      <td>-0.041021</td>\n",
              "      <td>-0.119202</td>\n",
              "      <td>-0.018472</td>\n",
              "      <td>-0.158768</td>\n",
              "      <td>-0.169121</td>\n",
              "      <td>-0.097518</td>\n",
              "      <td>-0.163709</td>\n",
              "      <td>0.025739</td>\n",
              "      <td>0.037174</td>\n",
              "      <td>0.008138</td>\n",
              "      <td>0.005300</td>\n",
              "      <td>-0.050263</td>\n",
              "      <td>-0.160597</td>\n",
              "      <td>-0.178842</td>\n",
              "      <td>-0.038728</td>\n",
              "      <td>-0.064322</td>\n",
              "      <td>-0.133021</td>\n",
              "      <td>-0.159691</td>\n",
              "      <td>-0.031826</td>\n",
              "      <td>-0.151208</td>\n",
              "    </tr>\n",
              "    <tr>\n",
              "      <th>DailyRate</th>\n",
              "      <td>0.010270</td>\n",
              "      <td>-0.050566</td>\n",
              "      <td>1.000000</td>\n",
              "      <td>0.023364</td>\n",
              "      <td>-0.049667</td>\n",
              "      <td>0.018301</td>\n",
              "      <td>0.025172</td>\n",
              "      <td>0.057859</td>\n",
              "      <td>0.009149</td>\n",
              "      <td>0.032010</td>\n",
              "      <td>0.015948</td>\n",
              "      <td>-0.042087</td>\n",
              "      <td>0.026531</td>\n",
              "      <td>0.031686</td>\n",
              "      <td>0.024503</td>\n",
              "      <td>-0.023635</td>\n",
              "      <td>0.042857</td>\n",
              "      <td>0.028833</td>\n",
              "      <td>0.004617</td>\n",
              "      <td>-0.066313</td>\n",
              "      <td>-0.042520</td>\n",
              "      <td>0.005374</td>\n",
              "      <td>-0.041213</td>\n",
              "      <td>-0.037282</td>\n",
              "    </tr>\n",
              "    <tr>\n",
              "      <th>DistanceFromHome</th>\n",
              "      <td>-0.022883</td>\n",
              "      <td>0.086875</td>\n",
              "      <td>0.023364</td>\n",
              "      <td>1.000000</td>\n",
              "      <td>0.012416</td>\n",
              "      <td>-0.022668</td>\n",
              "      <td>0.056265</td>\n",
              "      <td>0.058609</td>\n",
              "      <td>-0.030509</td>\n",
              "      <td>0.002253</td>\n",
              "      <td>-0.048151</td>\n",
              "      <td>0.026314</td>\n",
              "      <td>-0.021968</td>\n",
              "      <td>0.041837</td>\n",
              "      <td>0.034268</td>\n",
              "      <td>0.005861</td>\n",
              "      <td>0.043912</td>\n",
              "      <td>-0.025257</td>\n",
              "      <td>-0.007631</td>\n",
              "      <td>-0.053905</td>\n",
              "      <td>-0.029847</td>\n",
              "      <td>-0.004379</td>\n",
              "      <td>-0.008735</td>\n",
              "      <td>-0.004795</td>\n",
              "    </tr>\n",
              "    <tr>\n",
              "      <th>Education</th>\n",
              "      <td>0.181464</td>\n",
              "      <td>-0.041021</td>\n",
              "      <td>-0.049667</td>\n",
              "      <td>0.012416</td>\n",
              "      <td>1.000000</td>\n",
              "      <td>0.006558</td>\n",
              "      <td>0.022398</td>\n",
              "      <td>0.028283</td>\n",
              "      <td>0.098366</td>\n",
              "      <td>0.003848</td>\n",
              "      <td>0.098867</td>\n",
              "      <td>-0.049857</td>\n",
              "      <td>0.133409</td>\n",
              "      <td>-0.018768</td>\n",
              "      <td>-0.039675</td>\n",
              "      <td>0.014048</td>\n",
              "      <td>-0.003790</td>\n",
              "      <td>0.133525</td>\n",
              "      <td>-0.036168</td>\n",
              "      <td>0.011091</td>\n",
              "      <td>0.061348</td>\n",
              "      <td>0.075898</td>\n",
              "      <td>0.072333</td>\n",
              "      <td>0.086565</td>\n",
              "    </tr>\n",
              "    <tr>\n",
              "      <th>EnvironmentSatisfaction</th>\n",
              "      <td>0.033375</td>\n",
              "      <td>-0.119202</td>\n",
              "      <td>0.018301</td>\n",
              "      <td>-0.022668</td>\n",
              "      <td>0.006558</td>\n",
              "      <td>1.000000</td>\n",
              "      <td>-0.066821</td>\n",
              "      <td>0.014838</td>\n",
              "      <td>0.014005</td>\n",
              "      <td>0.017982</td>\n",
              "      <td>-0.000771</td>\n",
              "      <td>0.019339</td>\n",
              "      <td>0.000308</td>\n",
              "      <td>-0.063798</td>\n",
              "      <td>-0.044733</td>\n",
              "      <td>-0.011526</td>\n",
              "      <td>0.020861</td>\n",
              "      <td>0.008940</td>\n",
              "      <td>-0.036634</td>\n",
              "      <td>0.018968</td>\n",
              "      <td>0.000121</td>\n",
              "      <td>0.025088</td>\n",
              "      <td>0.023509</td>\n",
              "      <td>-0.003313</td>\n",
              "    </tr>\n",
              "    <tr>\n",
              "      <th>HourlyRate</th>\n",
              "      <td>0.006313</td>\n",
              "      <td>-0.018472</td>\n",
              "      <td>0.025172</td>\n",
              "      <td>0.056265</td>\n",
              "      <td>0.022398</td>\n",
              "      <td>-0.066821</td>\n",
              "      <td>1.000000</td>\n",
              "      <td>0.045250</td>\n",
              "      <td>-0.013305</td>\n",
              "      <td>-0.072199</td>\n",
              "      <td>-0.004524</td>\n",
              "      <td>-0.026535</td>\n",
              "      <td>0.023740</td>\n",
              "      <td>-0.007174</td>\n",
              "      <td>-0.009990</td>\n",
              "      <td>-0.016492</td>\n",
              "      <td>0.020385</td>\n",
              "      <td>-0.010346</td>\n",
              "      <td>-0.014123</td>\n",
              "      <td>0.002916</td>\n",
              "      <td>-0.018412</td>\n",
              "      <td>-0.033051</td>\n",
              "      <td>-0.042768</td>\n",
              "      <td>-0.030232</td>\n",
              "    </tr>\n",
              "    <tr>\n",
              "      <th>JobInvolvement</th>\n",
              "      <td>0.042037</td>\n",
              "      <td>-0.158768</td>\n",
              "      <td>0.057859</td>\n",
              "      <td>0.058609</td>\n",
              "      <td>0.028283</td>\n",
              "      <td>0.014838</td>\n",
              "      <td>0.045250</td>\n",
              "      <td>1.000000</td>\n",
              "      <td>-0.007549</td>\n",
              "      <td>-0.037395</td>\n",
              "      <td>-0.006137</td>\n",
              "      <td>-0.011343</td>\n",
              "      <td>0.010136</td>\n",
              "      <td>-0.022957</td>\n",
              "      <td>-0.014805</td>\n",
              "      <td>0.061255</td>\n",
              "      <td>0.043739</td>\n",
              "      <td>-0.005842</td>\n",
              "      <td>-0.030435</td>\n",
              "      <td>-0.022140</td>\n",
              "      <td>-0.009283</td>\n",
              "      <td>0.011350</td>\n",
              "      <td>-0.021055</td>\n",
              "      <td>0.038344</td>\n",
              "    </tr>\n",
              "    <tr>\n",
              "      <th>JobLevel</th>\n",
              "      <td>0.512325</td>\n",
              "      <td>-0.169121</td>\n",
              "      <td>0.009149</td>\n",
              "      <td>-0.030509</td>\n",
              "      <td>0.098366</td>\n",
              "      <td>0.014005</td>\n",
              "      <td>-0.013305</td>\n",
              "      <td>-0.007549</td>\n",
              "      <td>1.000000</td>\n",
              "      <td>-0.026036</td>\n",
              "      <td>0.954374</td>\n",
              "      <td>0.021875</td>\n",
              "      <td>0.145089</td>\n",
              "      <td>-0.069790</td>\n",
              "      <td>-0.060803</td>\n",
              "      <td>0.031862</td>\n",
              "      <td>0.013419</td>\n",
              "      <td>0.789603</td>\n",
              "      <td>-0.007115</td>\n",
              "      <td>0.038443</td>\n",
              "      <td>0.546291</td>\n",
              "      <td>0.406993</td>\n",
              "      <td>0.358058</td>\n",
              "      <td>0.376563</td>\n",
              "    </tr>\n",
              "    <tr>\n",
              "      <th>JobSatisfaction</th>\n",
              "      <td>-0.021383</td>\n",
              "      <td>-0.097518</td>\n",
              "      <td>0.032010</td>\n",
              "      <td>0.002253</td>\n",
              "      <td>0.003848</td>\n",
              "      <td>0.017982</td>\n",
              "      <td>-0.072199</td>\n",
              "      <td>-0.037395</td>\n",
              "      <td>-0.026036</td>\n",
              "      <td>1.000000</td>\n",
              "      <td>-0.026646</td>\n",
              "      <td>0.027266</td>\n",
              "      <td>-0.065640</td>\n",
              "      <td>-0.002446</td>\n",
              "      <td>-0.029304</td>\n",
              "      <td>-0.004539</td>\n",
              "      <td>0.025209</td>\n",
              "      <td>-0.040235</td>\n",
              "      <td>0.014605</td>\n",
              "      <td>-0.066238</td>\n",
              "      <td>-0.030551</td>\n",
              "      <td>-0.020956</td>\n",
              "      <td>-0.034739</td>\n",
              "      <td>-0.046355</td>\n",
              "    </tr>\n",
              "    <tr>\n",
              "      <th>MonthlyIncome</th>\n",
              "      <td>0.503340</td>\n",
              "      <td>-0.163709</td>\n",
              "      <td>0.015948</td>\n",
              "      <td>-0.048151</td>\n",
              "      <td>0.098867</td>\n",
              "      <td>-0.000771</td>\n",
              "      <td>-0.004524</td>\n",
              "      <td>-0.006137</td>\n",
              "      <td>0.954374</td>\n",
              "      <td>-0.026646</td>\n",
              "      <td>1.000000</td>\n",
              "      <td>0.011291</td>\n",
              "      <td>0.148414</td>\n",
              "      <td>-0.059931</td>\n",
              "      <td>-0.057267</td>\n",
              "      <td>0.033579</td>\n",
              "      <td>0.008492</td>\n",
              "      <td>0.780190</td>\n",
              "      <td>-0.001611</td>\n",
              "      <td>0.027060</td>\n",
              "      <td>0.528101</td>\n",
              "      <td>0.382471</td>\n",
              "      <td>0.349121</td>\n",
              "      <td>0.343414</td>\n",
              "    </tr>\n",
              "    <tr>\n",
              "      <th>MonthlyRate</th>\n",
              "      <td>0.016969</td>\n",
              "      <td>0.025739</td>\n",
              "      <td>-0.042087</td>\n",
              "      <td>0.026314</td>\n",
              "      <td>-0.049857</td>\n",
              "      <td>0.019339</td>\n",
              "      <td>-0.026535</td>\n",
              "      <td>-0.011343</td>\n",
              "      <td>0.021875</td>\n",
              "      <td>0.027266</td>\n",
              "      <td>0.011291</td>\n",
              "      <td>1.000000</td>\n",
              "      <td>-0.004096</td>\n",
              "      <td>-0.010716</td>\n",
              "      <td>-0.012615</td>\n",
              "      <td>-0.013091</td>\n",
              "      <td>-0.027881</td>\n",
              "      <td>0.011111</td>\n",
              "      <td>0.016580</td>\n",
              "      <td>-0.030991</td>\n",
              "      <td>-0.032269</td>\n",
              "      <td>-0.020893</td>\n",
              "      <td>-0.021680</td>\n",
              "      <td>-0.026640</td>\n",
              "    </tr>\n",
              "    <tr>\n",
              "      <th>NumCompaniesWorked</th>\n",
              "      <td>0.313343</td>\n",
              "      <td>0.037174</td>\n",
              "      <td>0.026531</td>\n",
              "      <td>-0.021968</td>\n",
              "      <td>0.133409</td>\n",
              "      <td>0.000308</td>\n",
              "      <td>0.023740</td>\n",
              "      <td>0.010136</td>\n",
              "      <td>0.145089</td>\n",
              "      <td>-0.065640</td>\n",
              "      <td>0.148414</td>\n",
              "      <td>-0.004096</td>\n",
              "      <td>1.000000</td>\n",
              "      <td>0.002276</td>\n",
              "      <td>0.001603</td>\n",
              "      <td>0.038144</td>\n",
              "      <td>0.011965</td>\n",
              "      <td>0.250971</td>\n",
              "      <td>-0.050191</td>\n",
              "      <td>-0.003022</td>\n",
              "      <td>-0.100931</td>\n",
              "      <td>-0.074283</td>\n",
              "      <td>-0.023271</td>\n",
              "      <td>-0.093964</td>\n",
              "    </tr>\n",
              "    <tr>\n",
              "      <th>PercentSalaryHike</th>\n",
              "      <td>-0.025688</td>\n",
              "      <td>0.008138</td>\n",
              "      <td>0.031686</td>\n",
              "      <td>0.041837</td>\n",
              "      <td>-0.018768</td>\n",
              "      <td>-0.063798</td>\n",
              "      <td>-0.007174</td>\n",
              "      <td>-0.022957</td>\n",
              "      <td>-0.069790</td>\n",
              "      <td>-0.002446</td>\n",
              "      <td>-0.059931</td>\n",
              "      <td>-0.010716</td>\n",
              "      <td>0.002276</td>\n",
              "      <td>1.000000</td>\n",
              "      <td>0.771366</td>\n",
              "      <td>-0.042330</td>\n",
              "      <td>-0.010949</td>\n",
              "      <td>-0.052149</td>\n",
              "      <td>-0.012951</td>\n",
              "      <td>-0.043728</td>\n",
              "      <td>-0.057255</td>\n",
              "      <td>-0.019608</td>\n",
              "      <td>-0.035975</td>\n",
              "      <td>-0.032621</td>\n",
              "    </tr>\n",
              "    <tr>\n",
              "      <th>PerformanceRating</th>\n",
              "      <td>-0.037771</td>\n",
              "      <td>0.005300</td>\n",
              "      <td>0.024503</td>\n",
              "      <td>0.034268</td>\n",
              "      <td>-0.039675</td>\n",
              "      <td>-0.044733</td>\n",
              "      <td>-0.009990</td>\n",
              "      <td>-0.014805</td>\n",
              "      <td>-0.060803</td>\n",
              "      <td>-0.029304</td>\n",
              "      <td>-0.057267</td>\n",
              "      <td>-0.012615</td>\n",
              "      <td>0.001603</td>\n",
              "      <td>0.771366</td>\n",
              "      <td>1.000000</td>\n",
              "      <td>-0.007457</td>\n",
              "      <td>-0.003638</td>\n",
              "      <td>-0.027516</td>\n",
              "      <td>-0.022443</td>\n",
              "      <td>-0.038055</td>\n",
              "      <td>-0.025157</td>\n",
              "      <td>0.017597</td>\n",
              "      <td>-0.002459</td>\n",
              "      <td>0.002141</td>\n",
              "    </tr>\n",
              "    <tr>\n",
              "      <th>RelationshipSatisfaction</th>\n",
              "      <td>0.061905</td>\n",
              "      <td>-0.050263</td>\n",
              "      <td>-0.023635</td>\n",
              "      <td>0.005861</td>\n",
              "      <td>0.014048</td>\n",
              "      <td>-0.011526</td>\n",
              "      <td>-0.016492</td>\n",
              "      <td>0.061255</td>\n",
              "      <td>0.031862</td>\n",
              "      <td>-0.004539</td>\n",
              "      <td>0.033579</td>\n",
              "      <td>-0.013091</td>\n",
              "      <td>0.038144</td>\n",
              "      <td>-0.042330</td>\n",
              "      <td>-0.007457</td>\n",
              "      <td>1.000000</td>\n",
              "      <td>-0.042075</td>\n",
              "      <td>0.040140</td>\n",
              "      <td>-0.007827</td>\n",
              "      <td>0.010171</td>\n",
              "      <td>0.027830</td>\n",
              "      <td>-0.010471</td>\n",
              "      <td>0.042093</td>\n",
              "      <td>0.001683</td>\n",
              "    </tr>\n",
              "    <tr>\n",
              "      <th>StockOptionLevel</th>\n",
              "      <td>0.006998</td>\n",
              "      <td>-0.160597</td>\n",
              "      <td>0.042857</td>\n",
              "      <td>0.043912</td>\n",
              "      <td>-0.003790</td>\n",
              "      <td>0.020861</td>\n",
              "      <td>0.020385</td>\n",
              "      <td>0.043739</td>\n",
              "      <td>0.013419</td>\n",
              "      <td>0.025209</td>\n",
              "      <td>0.008492</td>\n",
              "      <td>-0.027881</td>\n",
              "      <td>0.011965</td>\n",
              "      <td>-0.010949</td>\n",
              "      <td>-0.003638</td>\n",
              "      <td>-0.042075</td>\n",
              "      <td>1.000000</td>\n",
              "      <td>-0.005594</td>\n",
              "      <td>0.027556</td>\n",
              "      <td>-0.024220</td>\n",
              "      <td>0.034629</td>\n",
              "      <td>0.056891</td>\n",
              "      <td>0.036154</td>\n",
              "      <td>0.029358</td>\n",
              "    </tr>\n",
              "    <tr>\n",
              "      <th>TotalWorkingYears</th>\n",
              "      <td>0.691968</td>\n",
              "      <td>-0.178842</td>\n",
              "      <td>0.028833</td>\n",
              "      <td>-0.025257</td>\n",
              "      <td>0.133525</td>\n",
              "      <td>0.008940</td>\n",
              "      <td>-0.010346</td>\n",
              "      <td>-0.005842</td>\n",
              "      <td>0.789603</td>\n",
              "      <td>-0.040235</td>\n",
              "      <td>0.780190</td>\n",
              "      <td>0.011111</td>\n",
              "      <td>0.250971</td>\n",
              "      <td>-0.052149</td>\n",
              "      <td>-0.027516</td>\n",
              "      <td>0.040140</td>\n",
              "      <td>-0.005594</td>\n",
              "      <td>1.000000</td>\n",
              "      <td>-0.028268</td>\n",
              "      <td>-0.007360</td>\n",
              "      <td>0.632968</td>\n",
              "      <td>0.460833</td>\n",
              "      <td>0.405928</td>\n",
              "      <td>0.450119</td>\n",
              "    </tr>\n",
              "    <tr>\n",
              "      <th>TrainingTimesLastYear</th>\n",
              "      <td>-0.002472</td>\n",
              "      <td>-0.038728</td>\n",
              "      <td>0.004617</td>\n",
              "      <td>-0.007631</td>\n",
              "      <td>-0.036168</td>\n",
              "      <td>-0.036634</td>\n",
              "      <td>-0.014123</td>\n",
              "      <td>-0.030435</td>\n",
              "      <td>-0.007115</td>\n",
              "      <td>0.014605</td>\n",
              "      <td>-0.001611</td>\n",
              "      <td>0.016580</td>\n",
              "      <td>-0.050191</td>\n",
              "      <td>-0.012951</td>\n",
              "      <td>-0.022443</td>\n",
              "      <td>-0.007827</td>\n",
              "      <td>0.027556</td>\n",
              "      <td>-0.028268</td>\n",
              "      <td>1.000000</td>\n",
              "      <td>0.046765</td>\n",
              "      <td>-0.007723</td>\n",
              "      <td>-0.034908</td>\n",
              "      <td>-0.000046</td>\n",
              "      <td>-0.021457</td>\n",
              "    </tr>\n",
              "    <tr>\n",
              "      <th>WorkLifeBalance</th>\n",
              "      <td>-0.028193</td>\n",
              "      <td>-0.064322</td>\n",
              "      <td>-0.066313</td>\n",
              "      <td>-0.053905</td>\n",
              "      <td>0.011091</td>\n",
              "      <td>0.018968</td>\n",
              "      <td>0.002916</td>\n",
              "      <td>-0.022140</td>\n",
              "      <td>0.038443</td>\n",
              "      <td>-0.066238</td>\n",
              "      <td>0.027060</td>\n",
              "      <td>-0.030991</td>\n",
              "      <td>-0.003022</td>\n",
              "      <td>-0.043728</td>\n",
              "      <td>-0.038055</td>\n",
              "      <td>0.010171</td>\n",
              "      <td>-0.024220</td>\n",
              "      <td>-0.007360</td>\n",
              "      <td>0.046765</td>\n",
              "      <td>1.000000</td>\n",
              "      <td>0.011040</td>\n",
              "      <td>0.026348</td>\n",
              "      <td>0.007606</td>\n",
              "      <td>-0.003349</td>\n",
              "    </tr>\n",
              "    <tr>\n",
              "      <th>YearsAtCompany</th>\n",
              "      <td>0.317744</td>\n",
              "      <td>-0.133021</td>\n",
              "      <td>-0.042520</td>\n",
              "      <td>-0.029847</td>\n",
              "      <td>0.061348</td>\n",
              "      <td>0.000121</td>\n",
              "      <td>-0.018412</td>\n",
              "      <td>-0.009283</td>\n",
              "      <td>0.546291</td>\n",
              "      <td>-0.030551</td>\n",
              "      <td>0.528101</td>\n",
              "      <td>-0.032269</td>\n",
              "      <td>-0.100931</td>\n",
              "      <td>-0.057255</td>\n",
              "      <td>-0.025157</td>\n",
              "      <td>0.027830</td>\n",
              "      <td>0.034629</td>\n",
              "      <td>0.632968</td>\n",
              "      <td>-0.007723</td>\n",
              "      <td>0.011040</td>\n",
              "      <td>1.000000</td>\n",
              "      <td>0.761659</td>\n",
              "      <td>0.622171</td>\n",
              "      <td>0.760376</td>\n",
              "    </tr>\n",
              "    <tr>\n",
              "      <th>YearsInCurrentRole</th>\n",
              "      <td>0.209906</td>\n",
              "      <td>-0.159691</td>\n",
              "      <td>0.005374</td>\n",
              "      <td>-0.004379</td>\n",
              "      <td>0.075898</td>\n",
              "      <td>0.025088</td>\n",
              "      <td>-0.033051</td>\n",
              "      <td>0.011350</td>\n",
              "      <td>0.406993</td>\n",
              "      <td>-0.020956</td>\n",
              "      <td>0.382471</td>\n",
              "      <td>-0.020893</td>\n",
              "      <td>-0.074283</td>\n",
              "      <td>-0.019608</td>\n",
              "      <td>0.017597</td>\n",
              "      <td>-0.010471</td>\n",
              "      <td>0.056891</td>\n",
              "      <td>0.460833</td>\n",
              "      <td>-0.034908</td>\n",
              "      <td>0.026348</td>\n",
              "      <td>0.761659</td>\n",
              "      <td>1.000000</td>\n",
              "      <td>0.551913</td>\n",
              "      <td>0.717550</td>\n",
              "    </tr>\n",
              "    <tr>\n",
              "      <th>YearsSinceLastPromotion</th>\n",
              "      <td>0.215766</td>\n",
              "      <td>-0.031826</td>\n",
              "      <td>-0.041213</td>\n",
              "      <td>-0.008735</td>\n",
              "      <td>0.072333</td>\n",
              "      <td>0.023509</td>\n",
              "      <td>-0.042768</td>\n",
              "      <td>-0.021055</td>\n",
              "      <td>0.358058</td>\n",
              "      <td>-0.034739</td>\n",
              "      <td>0.349121</td>\n",
              "      <td>-0.021680</td>\n",
              "      <td>-0.023271</td>\n",
              "      <td>-0.035975</td>\n",
              "      <td>-0.002459</td>\n",
              "      <td>0.042093</td>\n",
              "      <td>0.036154</td>\n",
              "      <td>0.405928</td>\n",
              "      <td>-0.000046</td>\n",
              "      <td>0.007606</td>\n",
              "      <td>0.622171</td>\n",
              "      <td>0.551913</td>\n",
              "      <td>1.000000</td>\n",
              "      <td>0.497540</td>\n",
              "    </tr>\n",
              "    <tr>\n",
              "      <th>YearsWithCurrManager</th>\n",
              "      <td>0.194178</td>\n",
              "      <td>-0.151208</td>\n",
              "      <td>-0.037282</td>\n",
              "      <td>-0.004795</td>\n",
              "      <td>0.086565</td>\n",
              "      <td>-0.003313</td>\n",
              "      <td>-0.030232</td>\n",
              "      <td>0.038344</td>\n",
              "      <td>0.376563</td>\n",
              "      <td>-0.046355</td>\n",
              "      <td>0.343414</td>\n",
              "      <td>-0.026640</td>\n",
              "      <td>-0.093964</td>\n",
              "      <td>-0.032621</td>\n",
              "      <td>0.002141</td>\n",
              "      <td>0.001683</td>\n",
              "      <td>0.029358</td>\n",
              "      <td>0.450119</td>\n",
              "      <td>-0.021457</td>\n",
              "      <td>-0.003349</td>\n",
              "      <td>0.760376</td>\n",
              "      <td>0.717550</td>\n",
              "      <td>0.497540</td>\n",
              "      <td>1.000000</td>\n",
              "    </tr>\n",
              "  </tbody>\n",
              "</table>\n",
              "</div>"
            ],
            "text/plain": [
              "                               Age  ...  YearsWithCurrManager\n",
              "Age                       1.000000  ...              0.194178\n",
              "Attrition                -0.168641  ...             -0.151208\n",
              "DailyRate                 0.010270  ...             -0.037282\n",
              "DistanceFromHome         -0.022883  ...             -0.004795\n",
              "Education                 0.181464  ...              0.086565\n",
              "EnvironmentSatisfaction   0.033375  ...             -0.003313\n",
              "HourlyRate                0.006313  ...             -0.030232\n",
              "JobInvolvement            0.042037  ...              0.038344\n",
              "JobLevel                  0.512325  ...              0.376563\n",
              "JobSatisfaction          -0.021383  ...             -0.046355\n",
              "MonthlyIncome             0.503340  ...              0.343414\n",
              "MonthlyRate               0.016969  ...             -0.026640\n",
              "NumCompaniesWorked        0.313343  ...             -0.093964\n",
              "PercentSalaryHike        -0.025688  ...             -0.032621\n",
              "PerformanceRating        -0.037771  ...              0.002141\n",
              "RelationshipSatisfaction  0.061905  ...              0.001683\n",
              "StockOptionLevel          0.006998  ...              0.029358\n",
              "TotalWorkingYears         0.691968  ...              0.450119\n",
              "TrainingTimesLastYear    -0.002472  ...             -0.021457\n",
              "WorkLifeBalance          -0.028193  ...             -0.003349\n",
              "YearsAtCompany            0.317744  ...              0.760376\n",
              "YearsInCurrentRole        0.209906  ...              0.717550\n",
              "YearsSinceLastPromotion   0.215766  ...              0.497540\n",
              "YearsWithCurrManager      0.194178  ...              1.000000\n",
              "\n",
              "[24 rows x 24 columns]"
            ]
          },
          "metadata": {
            "tags": []
          },
          "execution_count": 40
        }
      ]
    },
    {
      "cell_type": "code",
      "metadata": {
        "id": "GvNyty5BujwE",
        "colab_type": "code",
        "outputId": "d26fc484-0d14-4cf5-f3cb-06f51fb2e4ba",
        "colab": {
          "base_uri": "https://localhost:8080/",
          "height": 423
        }
      },
      "source": [
        "attrition_data.skew(axis=0)\n"
      ],
      "execution_count": 0,
      "outputs": [
        {
          "output_type": "execute_result",
          "data": {
            "text/plain": [
              "Age                         0.411310\n",
              "Attrition                   1.785210\n",
              "DailyRate                  -0.035683\n",
              "DistanceFromHome            0.996036\n",
              "Education                  -0.271212\n",
              "EnvironmentSatisfaction    -0.332279\n",
              "HourlyRate                  0.009981\n",
              "JobInvolvement             -0.462914\n",
              "JobLevel                    0.988215\n",
              "JobSatisfaction            -0.368949\n",
              "MonthlyIncome               1.306446\n",
              "MonthlyRate                 0.016604\n",
              "NumCompaniesWorked          1.021353\n",
              "PercentSalaryHike           0.806683\n",
              "PerformanceRating           1.933632\n",
              "RelationshipSatisfaction   -0.329793\n",
              "StockOptionLevel            1.018030\n",
              "TotalWorkingYears           1.079786\n",
              "TrainingTimesLastYear       0.536270\n",
              "WorkLifeBalance            -0.543323\n",
              "YearsAtCompany              1.772493\n",
              "YearsInCurrentRole          0.914235\n",
              "YearsSinceLastPromotion     1.979317\n",
              "YearsWithCurrManager        0.834908\n",
              "dtype: float64"
            ]
          },
          "metadata": {
            "tags": []
          },
          "execution_count": 41
        }
      ]
    },
    {
      "cell_type": "code",
      "metadata": {
        "id": "C1oL10Spuy9j",
        "colab_type": "code",
        "colab": {}
      },
      "source": [
        "# Treating the skewness in the dataset\n",
        "for index in attrition_data.skew().index:\n",
        "    if attrition_data.skew().loc[index]>0.5:\n",
        "        attrition_data[index]=np.log1p(attrition_data[index])"
      ],
      "execution_count": 0,
      "outputs": []
    },
    {
      "cell_type": "code",
      "metadata": {
        "id": "7C3BygMCuPFz",
        "colab_type": "code",
        "outputId": "c45020a7-d2ae-4b06-91c0-b984eb7dd35b",
        "colab": {
          "base_uri": "https://localhost:8080/",
          "height": 423
        }
      },
      "source": [
        "attrition_data.skew(axis=0)\n"
      ],
      "execution_count": 0,
      "outputs": [
        {
          "output_type": "execute_result",
          "data": {
            "text/plain": [
              "Age                         0.411310\n",
              "Attrition                   1.785210\n",
              "DailyRate                  -0.035683\n",
              "DistanceFromHome            0.013308\n",
              "Education                  -0.271212\n",
              "EnvironmentSatisfaction    -0.332279\n",
              "HourlyRate                  0.009981\n",
              "JobInvolvement             -0.462914\n",
              "JobLevel                    0.437128\n",
              "JobSatisfaction            -0.368949\n",
              "MonthlyIncome               0.283931\n",
              "MonthlyRate                 0.016604\n",
              "NumCompaniesWorked          0.097949\n",
              "PercentSalaryHike           0.506312\n",
              "PerformanceRating           1.933632\n",
              "RelationshipSatisfaction   -0.329793\n",
              "StockOptionLevel            0.319887\n",
              "TotalWorkingYears          -0.600967\n",
              "TrainingTimesLastYear      -1.064700\n",
              "WorkLifeBalance            -0.543323\n",
              "YearsAtCompany             -0.185868\n",
              "YearsInCurrentRole         -0.401902\n",
              "YearsSinceLastPromotion     0.731508\n",
              "YearsWithCurrManager       -0.349326\n",
              "dtype: float64"
            ]
          },
          "metadata": {
            "tags": []
          },
          "execution_count": 43
        }
      ]
    },
    {
      "cell_type": "code",
      "metadata": {
        "id": "eiLSgspTvEHc",
        "colab_type": "code",
        "colab": {}
      },
      "source": [
        "\n",
        "# separate the labels and the features - method 1 \n",
        "label = attrition_data['Attrition']\n",
        "features_df = attrition_data.drop(['Attrition'], axis=1)"
      ],
      "execution_count": 0,
      "outputs": []
    },
    {
      "cell_type": "code",
      "metadata": {
        "id": "QGHQcP3Cv3vE",
        "colab_type": "code",
        "colab": {}
      },
      "source": [
        "X_train, X_test, y_train, y_test = train_test_split(features_df, label, train_size=0.8, random_state=123)\n"
      ],
      "execution_count": 0,
      "outputs": []
    },
    {
      "cell_type": "code",
      "metadata": {
        "id": "_oROyAxywEpy",
        "colab_type": "code",
        "colab": {}
      },
      "source": [
        "from xgboost import XGBClassifier\n",
        "import xgboost as xgb\n",
        "from sklearn.ensemble import AdaBoostClassifier, RandomForestRegressor, RandomForestClassifier\n",
        "from sklearn.model_selection import train_test_split, StratifiedKFold, GridSearchCV \n",
        "from sklearn.metrics import mean_absolute_error, accuracy_score, confusion_matrix, classification_report, roc_auc_score\n",
        "from sklearn.preprocessing import StandardScaler\n",
        "from sklearn.impute import SimpleImputer\n",
        "#Visualizing overfitting"
      ],
      "execution_count": 0,
      "outputs": []
    },
    {
      "cell_type": "code",
      "metadata": {
        "id": "lqXX-TcawKjF",
        "colab_type": "code",
        "colab": {}
      },
      "source": [
        "from sklearn.preprocessing import LabelEncoder\n",
        "LE= LabelEncoder()\n",
        "\n",
        "attrition_data[\"Attrition\"]=LE.fit_transform(attrition_data[\"Attrition\"])\n",
        "attrition_data[\"BusinessTravel\"]=LE.fit_transform(attrition_data[\"BusinessTravel\"])\n",
        "attrition_data[\"Department\"]=LE.fit_transform(attrition_data[\"Department\"])\n",
        "attrition_data[\"EducationField\"]=LE.fit_transform(attrition_data[\"EducationField\"])\n",
        "attrition_data[\"Gender\"]=LE.fit_transform(attrition_data[\"Gender\"])\n",
        "attrition_data[\"JobRole\"]=LE.fit_transform(attrition_data[\"JobRole\"])\n",
        "attrition_data[\"MaritalStatus\"]=LE.fit_transform(attrition_data[\"MaritalStatus\"])\n",
        "attrition_data[\"OverTime\"]=LE.fit_transform(attrition_data[\"OverTime\"])"
      ],
      "execution_count": 0,
      "outputs": []
    },
    {
      "cell_type": "code",
      "metadata": {
        "id": "nX4ocHJaw0-5",
        "colab_type": "code",
        "outputId": "1a986498-4101-4535-ea47-8628d4775aad",
        "colab": {
          "base_uri": "https://localhost:8080/",
          "height": 50
        }
      },
      "source": [
        "from scipy.stats import zscore\n",
        "z_score=abs(zscore(attrition_data))\n",
        "print(\"The shape of dataset before removing outliers\",attrition_data.shape)\n",
        "attrition_data=attrition_data.loc[(z_score<3).all(axis=1)]\n",
        "print(\"The shape of dataset after removing outliers\",attrition_data.shape)"
      ],
      "execution_count": 0,
      "outputs": [
        {
          "output_type": "stream",
          "text": [
            "The shape of dataset before removing outliers (1028, 31)\n",
            "The shape of dataset after removing outliers (979, 31)\n"
          ],
          "name": "stdout"
        }
      ]
    },
    {
      "cell_type": "code",
      "metadata": {
        "id": "1_R-2RidxABH",
        "colab_type": "code",
        "colab": {}
      },
      "source": [
        "X= attrition_data.drop([\"Attrition\"],axis=1)\n",
        "y= attrition_data[\"Attrition\"]"
      ],
      "execution_count": 0,
      "outputs": []
    },
    {
      "cell_type": "code",
      "metadata": {
        "id": "VFbUTTzUxCWx",
        "colab_type": "code",
        "colab": {}
      },
      "source": [
        "\n",
        "from sklearn.preprocessing import StandardScaler\n",
        "scaler=StandardScaler()\n",
        "X= scaler.fit_transform(X)"
      ],
      "execution_count": 0,
      "outputs": []
    },
    {
      "cell_type": "code",
      "metadata": {
        "id": "I-Z5O5J8xMjT",
        "colab_type": "code",
        "colab": {}
      },
      "source": [
        "X_train, X_test, y_train, y_test= train_test_split(X,y, test_size=0.20)"
      ],
      "execution_count": 0,
      "outputs": []
    },
    {
      "cell_type": "code",
      "metadata": {
        "id": "qcc1266CxUoZ",
        "colab_type": "code",
        "colab": {}
      },
      "source": [
        "\n",
        "def max_auc_roc_sc(w,X,y):\n",
        "    max_auc_roc_sc=0\n",
        "    for r_state in range(42,100):\n",
        "        X_train,X_test, y_train, y_test= train_test_split(X,y,test_size=0.30, random_state=r_state,stratify=y)\n",
        "        w.fit(X_train,y_train)\n",
        "        y_pred= w.predict(X_test)\n",
        "        auc_roc=roc_auc_score(y_test,y_pred)\n",
        "        if auc_roc>max_auc_roc_sc:\n",
        "            max_auc_roc_sc=auc_roc\n",
        "            a_score=r_state\n",
        "    print(\"Maximum AUC_ROC Score corresponding to:\",a_score,\" and it is :\",round((max_auc_roc_sc),3))"
      ],
      "execution_count": 0,
      "outputs": []
    },
    {
      "cell_type": "code",
      "metadata": {
        "id": "3HciYXvZxeKd",
        "colab_type": "code",
        "outputId": "116b7209-9011-49ef-c35f-3df0bf5166be",
        "colab": {
          "base_uri": "https://localhost:8080/",
          "height": 33
        }
      },
      "source": [
        "knn= KNeighborsClassifier()\n",
        "neighbors={\"n_neighbors\":range(1,30)}\n",
        "knn= GridSearchCV(knn, neighbors, cv=5,scoring=\"roc_auc\")\n",
        "knn.fit(X,y)\n",
        "knn.best_params_"
      ],
      "execution_count": 0,
      "outputs": [
        {
          "output_type": "execute_result",
          "data": {
            "text/plain": [
              "{'n_neighbors': 19}"
            ]
          },
          "metadata": {
            "tags": []
          },
          "execution_count": 58
        }
      ]
    },
    {
      "cell_type": "code",
      "metadata": {
        "id": "l9hLj-erxhlj",
        "colab_type": "code",
        "outputId": "07d9c860-d9ec-439e-92c0-6a290b7f674d",
        "colab": {
          "base_uri": "https://localhost:8080/",
          "height": 33
        }
      },
      "source": [
        "knn=KNeighborsClassifier(n_neighbors=29)\n",
        "max_auc_roc_sc(knn,X,y)"
      ],
      "execution_count": 0,
      "outputs": [
        {
          "output_type": "stream",
          "text": [
            "Maximum AUC_ROC Score corresponding to: 55  and it is : 0.543\n"
          ],
          "name": "stdout"
        }
      ]
    },
    {
      "cell_type": "code",
      "metadata": {
        "id": "B_OfMo-txmI0",
        "colab_type": "code",
        "outputId": "c370bf9e-b466-46d2-d5d4-d59a41364830",
        "colab": {
          "base_uri": "https://localhost:8080/",
          "height": 66
        }
      },
      "source": [
        "pred_knn= knn.predict(X_test)\n",
        "m1= knn.score(X_test, y_test)\n",
        "print(\"The accuracy of the KNN Model is:\",round((m1),3))\n",
        "print(confusion_matrix(y_test,pred_knn))"
      ],
      "execution_count": 0,
      "outputs": [
        {
          "output_type": "stream",
          "text": [
            "The accuracy of the KNN Model is: 0.821\n",
            "[[160   0]\n",
            " [ 35   1]]\n"
          ],
          "name": "stdout"
        }
      ]
    },
    {
      "cell_type": "markdown",
      "metadata": {
        "id": "FNm6RK1uzQoR",
        "colab_type": "text"
      },
      "source": [
        "### Random Forest Classifier"
      ]
    },
    {
      "cell_type": "code",
      "metadata": {
        "id": "4iAUFHD3xtSS",
        "colab_type": "code",
        "outputId": "5b75004b-8343-47de-cc71-e7b24c16b92a",
        "colab": {
          "base_uri": "https://localhost:8080/",
          "height": 115
        }
      },
      "source": [
        "from sklearn.ensemble import RandomForestClassifier\n",
        "rfc= RandomForestClassifier()\n",
        "parameters= {'n_estimators':[4,6,8],'max_features':['log2','sqrt','auto'],'criterion':['entropy','gini'],'max_depth':[2,5,10],'min_samples_split':[2,3,5],'min_samples_leaf':[3,5,7]}\n",
        "rfc= GridSearchCV(rfc,parameters)\n",
        "rfc.fit(X,y)\n",
        "rfc.best_params_"
      ],
      "execution_count": 0,
      "outputs": [
        {
          "output_type": "execute_result",
          "data": {
            "text/plain": [
              "{'criterion': 'gini',\n",
              " 'max_depth': 5,\n",
              " 'max_features': 'auto',\n",
              " 'min_samples_leaf': 5,\n",
              " 'min_samples_split': 3,\n",
              " 'n_estimators': 4}"
            ]
          },
          "metadata": {
            "tags": []
          },
          "execution_count": 56
        }
      ]
    },
    {
      "cell_type": "code",
      "metadata": {
        "id": "gnkkcgWaymJG",
        "colab_type": "code",
        "outputId": "7f33c9ed-3a55-4902-8866-29b87eeb40bb",
        "colab": {
          "base_uri": "https://localhost:8080/",
          "height": 33
        }
      },
      "source": [
        "rfc=RandomForestClassifier(criterion='gini', max_depth=10,max_features='sqrt',min_samples_leaf=5,min_samples_split=3,n_estimators=8)\n",
        "max_auc_roc_sc(rfc,X,y)\n"
      ],
      "execution_count": 0,
      "outputs": [
        {
          "output_type": "stream",
          "text": [
            "Maximum AUC_ROC Score corresponding to: 88  and it is : 0.613\n"
          ],
          "name": "stdout"
        }
      ]
    },
    {
      "cell_type": "code",
      "metadata": {
        "id": "QgsSu2uAytEa",
        "colab_type": "code",
        "outputId": "6fe5ce26-f298-4e00-9833-e0fd106c4af9",
        "colab": {
          "base_uri": "https://localhost:8080/",
          "height": 33
        }
      },
      "source": [
        "pred_rfc= rfc.predict(X_test)\n",
        "rf= rfc.score(X_test, y_test)\n",
        "print(\"The accuracy of the Random Forest Classifier is:\",round((rf),3))"
      ],
      "execution_count": 0,
      "outputs": [
        {
          "output_type": "stream",
          "text": [
            "The accuracy of the Random Forest Classifier is: 0.878\n"
          ],
          "name": "stdout"
        }
      ]
    },
    {
      "cell_type": "code",
      "metadata": {
        "id": "vs_gTcAtyw0j",
        "colab_type": "code",
        "outputId": "b49703c9-91bb-4b48-b065-ae15338ce9fb",
        "colab": {
          "base_uri": "https://localhost:8080/",
          "height": 50
        }
      },
      "source": [
        "print(confusion_matrix(y_test,pred_rfc))"
      ],
      "execution_count": 0,
      "outputs": [
        {
          "output_type": "stream",
          "text": [
            "[[160   0]\n",
            " [ 24  12]]\n"
          ],
          "name": "stdout"
        }
      ]
    },
    {
      "cell_type": "code",
      "metadata": {
        "id": "jzBq-CcPy8ts",
        "colab_type": "code",
        "outputId": "55dc01e1-8bc4-462a-883c-9a5b41d6abad",
        "colab": {
          "base_uri": "https://localhost:8080/",
          "height": 163
        }
      },
      "source": [
        "print(classification_report(y_test,pred_rfc))"
      ],
      "execution_count": 0,
      "outputs": [
        {
          "output_type": "stream",
          "text": [
            "              precision    recall  f1-score   support\n",
            "\n",
            "           0       0.87      1.00      0.93       160\n",
            "           1       1.00      0.33      0.50        36\n",
            "\n",
            "    accuracy                           0.88       196\n",
            "   macro avg       0.93      0.67      0.72       196\n",
            "weighted avg       0.89      0.88      0.85       196\n",
            "\n"
          ],
          "name": "stdout"
        }
      ]
    },
    {
      "cell_type": "code",
      "metadata": {
        "id": "JEQDlM1CzBzc",
        "colab_type": "code",
        "outputId": "baa20e16-3ba8-4881-d39c-4c139b712447",
        "colab": {
          "base_uri": "https://localhost:8080/",
          "height": 50
        }
      },
      "source": [
        "from sklearn.model_selection import cross_val_score\n",
        "mean_rfc_auc=cross_val_score(rfc, X,y,cv=5,scoring=\"roc_auc\").mean()\n",
        "print(\"Mean AUC_ROC Score after cross validation\", cross_val_score(rfc, X,y,cv=5,scoring=\"roc_auc\").mean())\n",
        "std_rfc_auc= cross_val_score(rfc, X,y,cv=5,scoring=\"roc_auc\").std()\n",
        "print(\"standard deviation for Random Forest Classifier from mean AUC_ROC score is\",cross_val_score(rfc, X,y,cv=5,scoring=\"roc_auc\").std())"
      ],
      "execution_count": 0,
      "outputs": [
        {
          "output_type": "stream",
          "text": [
            "Mean AUC_ROC Score after cross validation 0.7501532250613929\n",
            "standard deviation for Random Forest Classifier from mean AUC_ROC score is 0.04639541778806752\n"
          ],
          "name": "stdout"
        }
      ]
    },
    {
      "cell_type": "code",
      "metadata": {
        "id": "ZieqapxuzIka",
        "colab_type": "code",
        "outputId": "e9b690f9-ca49-42d8-aa4d-8adb34e2e6d4",
        "colab": {
          "base_uri": "https://localhost:8080/",
          "height": 295
        }
      },
      "source": [
        "y_pred_prob= rfc.predict_proba(X_test)[:,0]\n",
        "tpr,fpr, thresholds= roc_curve(y_test, y_pred_prob)\n",
        "\n",
        "# Plot\n",
        "plt.plot([0,1],[0,1],\"k--\")\n",
        "plt.plot(fpr,tpr,label=\"Random Forest\")\n",
        "plt.xlabel(\"False Positive Rate\")\n",
        "plt.ylabel(\"True Positive Rate\")\n",
        "plt.title(\"Random Forest Classifier\")\n",
        "plt.show()"
      ],
      "execution_count": 0,
      "outputs": [
        {
          "output_type": "display_data",
          "data": {
            "image/png": "[encoded data removed]",
            "text/plain": [
              "<Figure size 432x288 with 1 Axes>"
            ]
          },
          "metadata": {
            "tags": [],
            "needs_background": "light"
          }
        }
      ]
    },
    {
      "cell_type": "markdown",
      "metadata": {
        "id": "P4HZyE3nzWWA",
        "colab_type": "text"
      },
      "source": [
        "### DecisionTree Classifier"
      ]
    },
    {
      "cell_type": "code",
      "metadata": {
        "id": "nFAWDPQF0PtN",
        "colab_type": "code",
        "colab": {}
      },
      "source": [
        "from sklearn.tree import DecisionTreeClassifier\n",
        "dtc = DecisionTreeClassifier(criterion = 'entropy',max_depth=50)\n"
      ],
      "execution_count": 0,
      "outputs": []
    },
    {
      "cell_type": "code",
      "metadata": {
        "id": "RftXLrenCAX6",
        "colab_type": "code",
        "outputId": "4fe44f8d-0f89-4b38-fc7e-5ff510e46395",
        "colab": {
          "base_uri": "https://localhost:8080/",
          "height": 33
        }
      },
      "source": [
        "max_auc_roc_sc(dtc,X,y)"
      ],
      "execution_count": 0,
      "outputs": [
        {
          "output_type": "stream",
          "text": [
            "Maximum AUC_ROC Score corresponding to: 69  and it is : 0.667\n"
          ],
          "name": "stdout"
        }
      ]
    },
    {
      "cell_type": "code",
      "metadata": {
        "id": "mj1_SO4iCEc4",
        "colab_type": "code",
        "outputId": "68243411-8063-4402-fa27-54c490a1f289",
        "colab": {
          "base_uri": "https://localhost:8080/",
          "height": 66
        }
      },
      "source": [
        "pred_dtc= dtc.predict(X_test)\n",
        "dtc1= dtc.score(X_test, y_test)\n",
        "print(\"The accuracy of the Decision Tree Model is:\",round((dtc1),3))\n",
        "print(confusion_matrix(y_test,pred_dtc))"
      ],
      "execution_count": 0,
      "outputs": [
        {
          "output_type": "stream",
          "text": [
            "The accuracy of the Decision Tree Model is: 0.959\n",
            "[[157   3]\n",
            " [  5  31]]\n"
          ],
          "name": "stdout"
        }
      ]
    },
    {
      "cell_type": "code",
      "metadata": {
        "id": "_V2Sh9OGCHZo",
        "colab_type": "code",
        "outputId": "aaeff0b5-add3-4152-8caf-f8175cf6b70f",
        "colab": {
          "base_uri": "https://localhost:8080/",
          "height": 163
        }
      },
      "source": [
        "print(classification_report(y_test,pred_dtc))"
      ],
      "execution_count": 0,
      "outputs": [
        {
          "output_type": "stream",
          "text": [
            "              precision    recall  f1-score   support\n",
            "\n",
            "           0       0.97      0.98      0.98       160\n",
            "           1       0.91      0.86      0.89        36\n",
            "\n",
            "    accuracy                           0.96       196\n",
            "   macro avg       0.94      0.92      0.93       196\n",
            "weighted avg       0.96      0.96      0.96       196\n",
            "\n"
          ],
          "name": "stdout"
        }
      ]
    },
    {
      "cell_type": "code",
      "metadata": {
        "id": "vByZOjYFCKuf",
        "colab_type": "code",
        "outputId": "8c5dd9be-3b70-4132-dc10-4f443c586789",
        "colab": {
          "base_uri": "https://localhost:8080/",
          "height": 50
        }
      },
      "source": [
        "from sklearn.model_selection import cross_val_score\n",
        "mean_dtc_auc=cross_val_score(dtc, X,y,cv=5,scoring=\"roc_auc\").mean()\n",
        "print(\"Mean AUC_ROC Score Score after cross validation\", cross_val_score(dtc, X,y,cv=5,scoring=\"roc_auc\").mean())\n",
        "s_dtc_auc= cross_val_score(dtc, X,y,cv=5,scoring=\"roc_auc\").std()\n",
        "print(\"standard deviation for Decision Tree Classifier from mean AUC_ROC score is\",cross_val_score(dtc, X,y,cv=5,scoring=\"roc_auc\").std())"
      ],
      "execution_count": 0,
      "outputs": [
        {
          "output_type": "stream",
          "text": [
            "Mean AUC_ROC Score Score after cross validation 0.6059417840879289\n",
            "standard deviation for Decision Tree Classifier from mean AUC_ROC score is 0.023406224265176395\n"
          ],
          "name": "stdout"
        }
      ]
    },
    {
      "cell_type": "code",
      "metadata": {
        "id": "ywj2xaQcCO0X",
        "colab_type": "code",
        "outputId": "464348f1-d476-40fb-f688-36543f47c6df",
        "colab": {
          "base_uri": "https://localhost:8080/",
          "height": 295
        }
      },
      "source": [
        "from sklearn.metrics import roc_curve\n",
        "from sklearn.metrics import roc_auc_score\n",
        "\n",
        "y_pred_prob= dtc.predict_proba(X_test)[:,0]\n",
        "tpr,fpr, thresholds= roc_curve(y_test, y_pred_prob)\n",
        "\n",
        "\n",
        "# Plot\n",
        "plt.plot([0,1],[0,1],\"k--\")\n",
        "plt.plot(fpr,tpr,label=\"Decision Tree\")\n",
        "plt.xlabel(\"False Positive Rate\")\n",
        "plt.ylabel(\"True Positive Rate\")\n",
        "plt.title(\"Decision Tree\")\n",
        "plt.show()"
      ],
      "execution_count": 0,
      "outputs": [
        {
          "output_type": "display_data",
          "data": {
            "image/png": "[encoded data removed]",
            "text/plain": [
              "<Figure size 432x288 with 1 Axes>"
            ]
          },
          "metadata": {
            "tags": [],
            "needs_background": "light"
          }
        }
      ]
    },
    {
      "cell_type": "markdown",
      "metadata": {
        "id": "IQAY1_J6CXo_",
        "colab_type": "text"
      },
      "source": [
        "### XGB Classifier"
      ]
    },
    {
      "cell_type": "code",
      "metadata": {
        "id": "CWEobeO5CciP",
        "colab_type": "code",
        "outputId": "1409e685-74f6-4bb1-ec0b-9d49235f5430",
        "colab": {
          "base_uri": "https://localhost:8080/",
          "height": 33
        }
      },
      "source": [
        "from sklearn.ensemble import GradientBoostingClassifier\n",
        "gb = GradientBoostingClassifier()\n",
        "parameters= {'learning_rate': [0.01,0.03,0.05], 'subsample': [0.1, 0.5,0.3], 'n_estimators': [10,50,100], 'max_depth': [2,4,8]}\n",
        "gb= GridSearchCV(estimator=gb, param_grid= parameters, cv=5, n_jobs=-1)\n",
        "gb.fit(X,y)\n",
        "gb.best_params_"
      ],
      "execution_count": 0,
      "outputs": [
        {
          "output_type": "execute_result",
          "data": {
            "text/plain": [
              "{'learning_rate': 0.05, 'max_depth': 8, 'n_estimators': 100, 'subsample': 0.3}"
            ]
          },
          "metadata": {
            "tags": []
          },
          "execution_count": 74
        }
      ]
    },
    {
      "cell_type": "code",
      "metadata": {
        "id": "r7JE5kikCv64",
        "colab_type": "code",
        "outputId": "a00b701f-f910-4f87-e8c2-f059a23b93da",
        "colab": {
          "base_uri": "https://localhost:8080/",
          "height": 33
        }
      },
      "source": [
        "gb = GradientBoostingClassifier(learning_rate=0.05,max_depth=2,n_estimators=100,subsample=0.1)\n",
        "max_auc_roc_sc(gb,X,y)"
      ],
      "execution_count": 0,
      "outputs": [
        {
          "output_type": "stream",
          "text": [
            "Maximum AUC_ROC Score corresponding to: 79  and it is : 0.679\n"
          ],
          "name": "stdout"
        }
      ]
    },
    {
      "cell_type": "code",
      "metadata": {
        "id": "lPyeT3tvCz0Z",
        "colab_type": "code",
        "outputId": "8fea31be-05ab-4940-a36f-627816df5c3e",
        "colab": {
          "base_uri": "https://localhost:8080/",
          "height": 33
        }
      },
      "source": [
        "pred_gb= gb.predict(X_test)\n",
        "gb1= gb.score(X_test, y_test)\n",
        "print(\"The accuracy of the Grading Boosting Model is:\",round((gb1),3))"
      ],
      "execution_count": 0,
      "outputs": [
        {
          "output_type": "stream",
          "text": [
            "The accuracy of the Grading Boosting Model is: 0.857\n"
          ],
          "name": "stdout"
        }
      ]
    },
    {
      "cell_type": "code",
      "metadata": {
        "id": "-7ZwlHd1C2qO",
        "colab_type": "code",
        "outputId": "488bc4d2-c878-44bc-a769-ead2662dd031",
        "colab": {
          "base_uri": "https://localhost:8080/",
          "height": 50
        }
      },
      "source": [
        "print(confusion_matrix(y_test,pred_gb))"
      ],
      "execution_count": 0,
      "outputs": [
        {
          "output_type": "stream",
          "text": [
            "[[155   5]\n",
            " [ 23  13]]\n"
          ],
          "name": "stdout"
        }
      ]
    },
    {
      "cell_type": "code",
      "metadata": {
        "id": "_Ui-ECd0C5pY",
        "colab_type": "code",
        "outputId": "4ba07d68-8de1-4c3d-810f-905ebbb2040b",
        "colab": {
          "base_uri": "https://localhost:8080/",
          "height": 163
        }
      },
      "source": [
        "print(classification_report(y_test,pred_gb))"
      ],
      "execution_count": 0,
      "outputs": [
        {
          "output_type": "stream",
          "text": [
            "              precision    recall  f1-score   support\n",
            "\n",
            "           0       0.87      0.97      0.92       160\n",
            "           1       0.72      0.36      0.48        36\n",
            "\n",
            "    accuracy                           0.86       196\n",
            "   macro avg       0.80      0.66      0.70       196\n",
            "weighted avg       0.84      0.86      0.84       196\n",
            "\n"
          ],
          "name": "stdout"
        }
      ]
    },
    {
      "cell_type": "code",
      "metadata": {
        "id": "dT1bwMLIC79_",
        "colab_type": "code",
        "outputId": "b42cbbd0-73a8-4dfb-faea-b988ef8d5f73",
        "colab": {
          "base_uri": "https://localhost:8080/",
          "height": 50
        }
      },
      "source": [
        "from sklearn.model_selection import cross_val_score\n",
        "mean_gb_auc=cross_val_score(gb, X,y,cv=5,scoring=\"roc_auc\").mean()\n",
        "print(\"Mean AUC_ROC Score after cross validation\", cross_val_score(gb, X,y,cv=5,scoring=\"roc_auc\").mean())\n",
        "std_gb_auc= cross_val_score(gb, X,y,cv=5,scoring=\"roc_auc\").std()\n",
        "print(\"standard deviation for Gradient  Boosting from mean AUC_ROC score is\",cross_val_score(gb, X,y,cv=5,scoring=\"roc_auc\").std())"
      ],
      "execution_count": 0,
      "outputs": [
        {
          "output_type": "stream",
          "text": [
            "Mean AUC_ROC Score after cross validation 0.7549575987053859\n",
            "standard deviation for Gradient  Boosting from mean AUC_ROC score is 0.048276776403284385\n"
          ],
          "name": "stdout"
        }
      ]
    },
    {
      "cell_type": "code",
      "metadata": {
        "id": "Ti286gutC_T4",
        "colab_type": "code",
        "outputId": "6612b51f-dc54-43a9-e70d-ec987aa38192",
        "colab": {
          "base_uri": "https://localhost:8080/",
          "height": 295
        }
      },
      "source": [
        "from sklearn.metrics import roc_curve\n",
        "from sklearn.metrics import roc_auc_score\n",
        "\n",
        "y_pred_prob= gb.predict_proba(X_test)[:,0]\n",
        "tpr,fpr, thresholds= roc_curve(y_test, y_pred_prob)\n",
        "\n",
        "\n",
        "# Plot\n",
        "plt.plot([0,1],[0,1],\"k--\")\n",
        "plt.plot(fpr,tpr,label=\"Gradient Boosting\")\n",
        "plt.xlabel(\"False Positive Rate\")\n",
        "plt.ylabel(\"True Positive Rate\")\n",
        "plt.title(\"Gradient Boosting\")\n",
        "plt.show()"
      ],
      "execution_count": 0,
      "outputs": [
        {
          "output_type": "display_data",
          "data": {
            "image/png": "[encoded data removed]",
            "text/plain": [
              "<Figure size 432x288 with 1 Axes>"
            ]
          },
          "metadata": {
            "tags": [],
            "needs_background": "light"
          }
        }
      ]
    }
  ]
}